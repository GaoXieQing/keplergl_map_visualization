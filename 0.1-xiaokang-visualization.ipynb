{
 "cells": [
  {
   "cell_type": "markdown",
   "metadata": {},
   "source": [
    "## Install the required packages"
   ]
  },
  {
   "cell_type": "code",
   "execution_count": null,
   "metadata": {},
   "outputs": [],
   "source": [
    "!pip install -r requirements.txt"
   ]
  },
  {
   "cell_type": "markdown",
   "metadata": {},
   "source": [
    "## Read the data"
   ]
  },
  {
   "cell_type": "code",
   "execution_count": 1,
   "metadata": {},
   "outputs": [
    {
     "data": {
      "text/html": [
       "<div>\n",
       "<style scoped>\n",
       "    .dataframe tbody tr th:only-of-type {\n",
       "        vertical-align: middle;\n",
       "    }\n",
       "\n",
       "    .dataframe tbody tr th {\n",
       "        vertical-align: top;\n",
       "    }\n",
       "\n",
       "    .dataframe thead th {\n",
       "        text-align: right;\n",
       "    }\n",
       "</style>\n",
       "<table border=\"1\" class=\"dataframe\">\n",
       "  <thead>\n",
       "    <tr style=\"text-align: right;\">\n",
       "      <th></th>\n",
       "      <th>house.id</th>\n",
       "      <th>house.price</th>\n",
       "      <th>phone_sco.mean</th>\n",
       "      <th>Lon</th>\n",
       "      <th>Lat</th>\n",
       "    </tr>\n",
       "  </thead>\n",
       "  <tbody>\n",
       "    <tr>\n",
       "      <th>0</th>\n",
       "      <td>1</td>\n",
       "      <td>2593</td>\n",
       "      <td>0.50</td>\n",
       "      <td>114.028171</td>\n",
       "      <td>22.538852</td>\n",
       "    </tr>\n",
       "    <tr>\n",
       "      <th>1</th>\n",
       "      <td>2</td>\n",
       "      <td>4021</td>\n",
       "      <td>2.03</td>\n",
       "      <td>113.901355</td>\n",
       "      <td>22.787233</td>\n",
       "    </tr>\n",
       "    <tr>\n",
       "      <th>2</th>\n",
       "      <td>3</td>\n",
       "      <td>4471</td>\n",
       "      <td>2.20</td>\n",
       "      <td>114.042316</td>\n",
       "      <td>22.625710</td>\n",
       "    </tr>\n",
       "    <tr>\n",
       "      <th>3</th>\n",
       "      <td>4</td>\n",
       "      <td>5658</td>\n",
       "      <td>2.69</td>\n",
       "      <td>113.945281</td>\n",
       "      <td>22.552972</td>\n",
       "    </tr>\n",
       "    <tr>\n",
       "      <th>4</th>\n",
       "      <td>5</td>\n",
       "      <td>5698</td>\n",
       "      <td>2.08</td>\n",
       "      <td>113.998366</td>\n",
       "      <td>22.674991</td>\n",
       "    </tr>\n",
       "  </tbody>\n",
       "</table>\n",
       "</div>"
      ],
      "text/plain": [
       "   house.id  house.price  phone_sco.mean         Lon        Lat\n",
       "0         1         2593            0.50  114.028171  22.538852\n",
       "1         2         4021            2.03  113.901355  22.787233\n",
       "2         3         4471            2.20  114.042316  22.625710\n",
       "3         4         5658            2.69  113.945281  22.552972\n",
       "4         5         5698            2.08  113.998366  22.674991"
      ]
     },
     "execution_count": 1,
     "metadata": {},
     "output_type": "execute_result"
    }
   ],
   "source": [
    "import pandas as pd\n",
    "import pandas as pd\n",
    "df = pd.read_csv(\"data/house.txt\", sep=\"\\t\")\n",
    "df['Y'] = df['geometry.house'].apply(lambda x: x.split('|')[0]).astype(float)\n",
    "df['X'] = df['geometry.house'].apply(lambda x: x.split('|')[1]).astype(float)\n",
    "df.drop('geometry.house', axis=1, inplace=True)\n",
    "df.columns = ['house.id', 'house.price', 'phone_sco.mean', 'Lon', 'Lat']\n",
    "df.dropna(inplace=True)\n",
    "df.head()"
   ]
  },
  {
   "cell_type": "code",
   "execution_count": 7,
   "metadata": {},
   "outputs": [
    {
     "name": "stdout",
     "output_type": "stream",
     "text": [
      "User Guide: https://docs.kepler.gl/docs/keplergl-jupyter\n"
     ]
    },
    {
     "data": {
      "application/vnd.jupyter.widget-view+json": {
       "model_id": "a9edae58b6f5415ab49630e831e1020d",
       "version_major": 2,
       "version_minor": 0
      },
      "text/plain": [
       "KeplerGl(data={'house': {'index': [0, 1, 2, 3, 4, 5, 6, 7, 8, 9, 10, 11, 12, 13, 14, 15, 16, 17, 18, 19, 20, 2…"
      ]
     },
     "metadata": {},
     "output_type": "display_data"
    }
   ],
   "source": [
    "# make a map using keplergl\n",
    "# import keplergl\n",
    "# map = keplergl.KeplerGl(height=500)\n",
    "# # add data\n",
    "# map.add_data(data=df.copy(), name=\"house\")\n",
    "# # show map\n",
    "# map"
   ]
  },
  {
   "cell_type": "code",
   "execution_count": 6,
   "metadata": {},
   "outputs": [],
   "source": [
    "# save the config\n",
    "\n",
    "# config = map.config\n",
    "# # Save map_1 config to a file\n",
    "# with open('hex_config.py', 'w') as f:\n",
    "#    f.write('config = {}'.format(config))\n",
    "df.to_csv('dat.csv',index=False)"
   ]
  },
  {
   "cell_type": "markdown",
   "metadata": {},
   "source": [
    "## Reproduce the visualization"
   ]
  },
  {
   "cell_type": "code",
   "execution_count": 2,
   "metadata": {},
   "outputs": [],
   "source": [
    "%run hex_config.py"
   ]
  },
  {
   "cell_type": "code",
   "execution_count": 4,
   "metadata": {},
   "outputs": [
    {
     "name": "stdout",
     "output_type": "stream",
     "text": [
      "User Guide: https://docs.kepler.gl/docs/keplergl-jupyter\n"
     ]
    },
    {
     "data": {
      "application/vnd.jupyter.widget-view+json": {
       "model_id": "a43c643e14de48febb685a79a3910fb0",
       "version_major": 2,
       "version_minor": 0
      },
      "text/plain": [
       "KeplerGl(config={'version': 'v1', 'config': {'visState': {'filters': [], 'layers': [{'id': '3n4qvasp', 'type':…"
      ]
     },
     "metadata": {},
     "output_type": "display_data"
    }
   ],
   "source": [
    "import keplergl\n",
    "map_1 = keplergl.KeplerGl(height=600, data={'house': df.copy()}, config=config)\n",
    "map_1\n"
   ]
  },
  {
   "cell_type": "markdown",
   "metadata": {},
   "source": [
    "This visulization can be adjusted by interacting with the map and UI elements. "
   ]
  },
  {
   "cell_type": "code",
   "execution_count": 5,
   "metadata": {},
   "outputs": [
    {
     "name": "stdout",
     "output_type": "stream",
     "text": [
      "Map saved to hex_map.html!\n"
     ]
    }
   ],
   "source": [
    "map_1.save_to_html(file_name='hex_map.html')"
   ]
  }
 ],
 "metadata": {
  "kernelspec": {
   "display_name": "base",
   "language": "python",
   "name": "python3"
  },
  "language_info": {
   "codemirror_mode": {
    "name": "ipython",
    "version": 3
   },
   "file_extension": ".py",
   "mimetype": "text/x-python",
   "name": "python",
   "nbconvert_exporter": "python",
   "pygments_lexer": "ipython3",
   "version": "3.12.4"
  }
 },
 "nbformat": 4,
 "nbformat_minor": 2
}
